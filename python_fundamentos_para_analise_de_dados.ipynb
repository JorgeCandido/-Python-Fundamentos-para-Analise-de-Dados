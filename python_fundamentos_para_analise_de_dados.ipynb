{
  "nbformat": 4,
  "nbformat_minor": 0,
  "metadata": {
    "colab": {
      "name": "python_fundamentos_para_analise_de_dados.ipynb",
      "provenance": [],
      "authorship_tag": "ABX9TyN4IMNfAxkRqvpu05gqN86e",
      "include_colab_link": true
    },
    "kernelspec": {
      "name": "python3",
      "display_name": "Python 3"
    },
    "language_info": {
      "name": "python"
    }
  },
  "cells": [
    {
      "cell_type": "markdown",
      "metadata": {
        "id": "view-in-github",
        "colab_type": "text"
      },
      "source": [
        "<a href=\"https://colab.research.google.com/github/JorgeCandido/-Python-Fundamentos-para-Analise-de-Dados/blob/main/python_fundamentos_para_analise_de_dados.ipynb\" target=\"_parent\"><img src=\"https://colab.research.google.com/assets/colab-badge.svg\" alt=\"Open In Colab\"/></a>"
      ]
    },
    {
      "cell_type": "markdown",
      "metadata": {
        "id": "0Gm1eQotwkWG"
      },
      "source": [
        "# <center> Python Fundamentos para Análise de Dados <br> [datascienceacademy.com.br](https://www.datascienceacademy.com.br/course?courseid=python-fundamentos)"
      ]
    },
    {
      "cell_type": "markdown",
      "metadata": {
        "id": "vtUzQycLyTpH"
      },
      "source": [
        "# 01- Introdução"
      ]
    },
    {
      "cell_type": "code",
      "metadata": {
        "id": "BOvlmSjtun_v"
      },
      "source": [
        "# Visão geral sobre o curso"
      ],
      "execution_count": 1,
      "outputs": []
    },
    {
      "cell_type": "markdown",
      "metadata": {
        "id": "QV4nDhjrw1Y_"
      },
      "source": [
        "# 02- Variáveis, Tipos e Estruturas"
      ]
    },
    {
      "cell_type": "markdown",
      "metadata": {
        "id": "-ZUim1LnxI1h"
      },
      "source": [
        "#### Números e operações matemáticas"
      ]
    },
    {
      "cell_type": "code",
      "metadata": {
        "id": "g-v88pg4yo31"
      },
      "source": [
        ""
      ],
      "execution_count": null,
      "outputs": []
    }
  ]
}